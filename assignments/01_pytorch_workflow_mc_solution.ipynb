{
  "nbformat": 4,
  "nbformat_minor": 0,
  "metadata": {
    "colab": {
      "provenance": []
    },
    "kernelspec": {
      "name": "python3",
      "display_name": "Python 3"
    },
    "language_info": {
      "name": "python"
    },
    "accelerator": "GPU"
  },
  "cells": [
    {
      "cell_type": "markdown",
      "metadata": {
        "id": "view-in-github"
      },
      "source": [
        "<a href=\"https://colab.research.google.com/github/mrdbourke/pytorch-deep-learning/blob/main/extras/exercises/01_pytorch_workflow_exercises.ipynb\" target=\"_parent\"><img src=\"https://colab.research.google.com/assets/colab-badge.svg\" alt=\"Open In Colab\"/></a>"
      ]
    },
    {
      "cell_type": "markdown",
      "source": [
        "# 01. PyTorch Workflow Exercise Template\n",
        "\n",
        "The following is a template for the PyTorch workflow exercises.\n",
        "\n",
        "It's only starter code and it's your job to fill in the blanks.\n",
        "\n",
        "Because of the flexibility of PyTorch, there may be more than one way to answer the question.\n",
        "\n",
        "Don't worry about trying to be *right* just try writing code that suffices the question.\n",
        "\n",
        "You can see one form of [solutions on GitHub](https://github.com/mrdbourke/pytorch-deep-learning/tree/main/extras/solutions) (but try the exercises below yourself first!)."
      ],
      "metadata": {
        "id": "N8LsPXZti9Sw"
      }
    },
    {
      "cell_type": "code",
      "source": [
        "# Import necessary libraries\n",
        "import torch\n",
        "from torch import nn\n",
        "import matplotlib.pyplot as plt"
      ],
      "metadata": {
        "id": "Glu2fM4dkNlx"
      },
      "execution_count": 162,
      "outputs": []
    },
    {
      "cell_type": "code",
      "source": [
        "# Setup device-agnostic code\n",
        "device = \"cuda\" if torch.cuda.is_available() else \"cpu\"\n",
        "device"
      ],
      "metadata": {
        "id": "LqKhXY26m31s",
        "colab": {
          "base_uri": "https://localhost:8080/",
          "height": 35
        },
        "outputId": "61d2c3ac-7c85-4577-fc36-abdeaf668b21"
      },
      "execution_count": 163,
      "outputs": [
        {
          "output_type": "execute_result",
          "data": {
            "text/plain": [
              "'cuda'"
            ],
            "application/vnd.google.colaboratory.intrinsic+json": {
              "type": "string"
            }
          },
          "metadata": {},
          "execution_count": 163
        }
      ]
    },
    {
      "cell_type": "markdown",
      "source": [
        "## 1. Create a straight line dataset using the linear regression formula (`weight * X + bias`).\n",
        "  * Set `weight=0.3` and `bias=0.9` there should be at least 100 datapoints total.\n",
        "  * Split the data into 80% training, 20% testing.\n",
        "  * Plot the training and testing data so it becomes visual.\n",
        "\n",
        "Your output of the below cell should look something like:\n",
        "```\n",
        "Number of X samples: 100\n",
        "Number of y samples: 100\n",
        "First 10 X & y samples:\n",
        "X: tensor([0.0000, 0.0100, 0.0200, 0.0300, 0.0400, 0.0500, 0.0600, 0.0700, 0.0800,\n",
        "        0.0900])\n",
        "y: tensor([0.9000, 0.9030, 0.9060, 0.9090, 0.9120, 0.9150, 0.9180, 0.9210, 0.9240,\n",
        "        0.9270])\n",
        "```\n",
        "\n",
        "Of course the numbers in `X` and `y` may be different but ideally they're created using the linear regression formula."
      ],
      "metadata": {
        "id": "g7HUhxCxjeBx"
      }
    },
    {
      "cell_type": "code",
      "source": [
        "# Create the data parameters\n",
        "weight = 0.3\n",
        "bias = 0.9\n",
        "\n",
        "# Make X and y using linear regression feature\n",
        "X = torch.arange(0, 1, 0.02).unsqueeze(dim=1)\n",
        "y = weight * X + bias\n",
        "\n",
        "print(f\"Number of X samples: {len(X)}\")\n",
        "print(f\"Number of y samples: {len(y)}\")\n",
        "print(f\"First 10 X & y samples:\\nX: {X[:10]}\\ny: {y[:10]}\")"
      ],
      "metadata": {
        "id": "KbDG5MV7jhvE",
        "colab": {
          "base_uri": "https://localhost:8080/"
        },
        "outputId": "a041f104-9f08-4f4a-be2e-67590f06d789"
      },
      "execution_count": 164,
      "outputs": [
        {
          "output_type": "stream",
          "name": "stdout",
          "text": [
            "Number of X samples: 50\n",
            "Number of y samples: 50\n",
            "First 10 X & y samples:\n",
            "X: tensor([[0.0000],\n",
            "        [0.0200],\n",
            "        [0.0400],\n",
            "        [0.0600],\n",
            "        [0.0800],\n",
            "        [0.1000],\n",
            "        [0.1200],\n",
            "        [0.1400],\n",
            "        [0.1600],\n",
            "        [0.1800]])\n",
            "y: tensor([[0.9000],\n",
            "        [0.9060],\n",
            "        [0.9120],\n",
            "        [0.9180],\n",
            "        [0.9240],\n",
            "        [0.9300],\n",
            "        [0.9360],\n",
            "        [0.9420],\n",
            "        [0.9480],\n",
            "        [0.9540]])\n"
          ]
        }
      ]
    },
    {
      "cell_type": "code",
      "source": [
        "# Split the data into training and testing\n",
        "train_split = int(0.8 * len(X))\n",
        "X_train, y_train, X_test, y_test = X[:train_split], y[:train_split], X[train_split:], y[train_split:]\n",
        "print(f\"Number of training samples: {len(X_train)}\")\n",
        "print(f\"Number of testing samples: {len(X_test)}\")"
      ],
      "metadata": {
        "id": "GlwtT1djkmLw",
        "colab": {
          "base_uri": "https://localhost:8080/"
        },
        "outputId": "c03d5e35-f444-421d-f5a8-b238ac490ea1"
      },
      "execution_count": 165,
      "outputs": [
        {
          "output_type": "stream",
          "name": "stdout",
          "text": [
            "Number of training samples: 40\n",
            "Number of testing samples: 10\n"
          ]
        }
      ]
    },
    {
      "cell_type": "code",
      "source": [
        "# Plot the training and testing data\n",
        "def plot_predictions(train_data=X_train,\n",
        "                     train_labels=y_train,\n",
        "                     test_data=X_test,\n",
        "                     test_labels=y_test,\n",
        "                     predictions=None):\n",
        "  plt.figure(figsize=(10, 7))\n",
        "  plt.scatter(train_data, train_labels, c=\"r\", s=5, label=\"Train data\")\n",
        "  plt.scatter(test_data, test_labels, c=\"g\", s=5, label=\"Test data\")\n",
        "\n",
        "  if predictions is not None:\n",
        "    plt.scatter(test_data, predictions, c=\"b\", s=5, label=\"Predictions\")\n",
        "  else:\n",
        "    print(\"No prediction data to plot\")\n",
        "  plt.legend(prop = {'size': 14})\n",
        "plot_predictions()"
      ],
      "metadata": {
        "id": "29iQZFNhlYJ-",
        "colab": {
          "base_uri": "https://localhost:8080/",
          "height": 616
        },
        "outputId": "6b856003-6dfa-49e9-fbf2-61ae4bc4f184"
      },
      "execution_count": 166,
      "outputs": [
        {
          "output_type": "stream",
          "name": "stdout",
          "text": [
            "No prediction data to plot\n"
          ]
        },
        {
          "output_type": "display_data",
          "data": {
            "text/plain": [
              "<Figure size 1000x700 with 1 Axes>"
            ],
            "image/png": "[encoded data removed]"
          },
          "metadata": {}
        }
      ]
    },
    {
      "cell_type": "markdown",
      "source": [
        "## 2. Build a PyTorch model by subclassing `nn.Module`.\n",
        "  * Inside should be a randomly initialized `nn.Parameter()` with `requires_grad=True`, one for `weights` and one for `bias`.\n",
        "  * Implement the `forward()` method to compute the linear regression function you used to create the dataset in 1.\n",
        "  * Once you've constructed the model, make an instance of it and check its `state_dict()`.\n",
        "  * **Note:** If you'd like to use `nn.Linear()` instead of `nn.Parameter()` you can."
      ],
      "metadata": {
        "id": "ImZoe3v8jif8"
      }
    },
    {
      "cell_type": "code",
      "source": [
        "# Create PyTorch linear regression model by subclassing nn.Module\n",
        "\n",
        "# optinon one\n",
        "# class LRModel(nn.Module):\n",
        "#   def __init__(self):\n",
        "#     super().__init__()\n",
        "#     self.weight = nn.Parameter(torch.randn(1, requires_grad=True, dtype=torch.float))\n",
        "#     self.bias = nn.Parameter(torch.randn(1, requires_grad=True, dtype=torch.float))\n",
        "\n",
        "#   def forward(self, X):\n",
        "#     return self.weight * X + self.bias\n",
        "\n",
        "class LRModel(nn.Module):\n",
        "  def __init__(self):\n",
        "    super().__init__()\n",
        "    self.linear_layer = nn.Linear(in_features=1, out_features=1)\n",
        "\n",
        "  def forward(self, X):\n",
        "    return self.linear_layer(X)\n",
        "\n",
        "torch.manual_seed(42)\n",
        "model_0 = LRModel()\n",
        "model_0,model_0.state_dict()\n",
        "next(model_0.parameters()).device"
      ],
      "metadata": {
        "id": "qzd__Y5rjtB8",
        "colab": {
          "base_uri": "https://localhost:8080/"
        },
        "outputId": "c1cd99bc-4e83-47f0-e86d-b42ea2e836a8"
      },
      "execution_count": 167,
      "outputs": [
        {
          "output_type": "execute_result",
          "data": {
            "text/plain": [
              "device(type='cpu')"
            ]
          },
          "metadata": {},
          "execution_count": 167
        }
      ]
    },
    {
      "cell_type": "code",
      "source": [
        "# Instantiate the model and put it to the target device\n",
        "model_0.to(device)\n",
        "list(model_0.parameters())"
      ],
      "metadata": {
        "id": "5LdcDnmOmyQ2",
        "colab": {
          "base_uri": "https://localhost:8080/"
        },
        "outputId": "3a34f951-e03e-4914-c68c-663e02dd413a"
      },
      "execution_count": 168,
      "outputs": [
        {
          "output_type": "execute_result",
          "data": {
            "text/plain": [
              "[Parameter containing:\n",
              " tensor([[0.7645]], device='cuda:0', requires_grad=True),\n",
              " Parameter containing:\n",
              " tensor([0.8300], device='cuda:0', requires_grad=True)]"
            ]
          },
          "metadata": {},
          "execution_count": 168
        }
      ]
    },
    {
      "cell_type": "markdown",
      "source": [
        "## 3. Create a loss function and optimizer using `nn.L1Loss()` and `torch.optim.SGD(params, lr)` respectively.\n",
        "  * Set the learning rate of the optimizer to be 0.01 and the parameters to optimize should be the model parameters from the model you created in 2.\n",
        "  * Write a training loop to perform the appropriate training steps for 300 epochs.\n",
        "  * The training loop should test the model on the test dataset every 20 epochs."
      ],
      "metadata": {
        "id": "G6nYOrJhjtfu"
      }
    },
    {
      "cell_type": "code",
      "source": [
        "# Create the loss function and optimizer\n",
        "loss_fn = nn.L1Loss()\n",
        "optimizer = torch.optim.SGD(params=model_0.parameters(), lr=0.002)"
      ],
      "metadata": {
        "id": "ltvoZ-FWjv1j"
      },
      "execution_count": 169,
      "outputs": []
    },
    {
      "cell_type": "code",
      "source": [
        "# Training loop\n",
        "torch.manual_seed(42)\n",
        "\n",
        "epochs = 5000\n",
        "\n",
        "# send the data to the device\n",
        "X_train = X_train.to(device)\n",
        "y_train = y_train.to(device)\n",
        "X_test = X_test.to(device)\n",
        "y_test = y_test.to(device)\n",
        "\n",
        "# Train model for 100 epochs\n",
        "for epoch in range(epochs):\n",
        "  ### Training\n",
        "\n",
        "  # Put model in train mode\n",
        "  model_0.train()\n",
        "\n",
        "  # 1. Forward pass\n",
        "  y_pred = model_0(X_train)\n",
        "\n",
        "  # 2. Calculate loss\n",
        "  loss = loss_fn(y_pred, y_train)\n",
        "\n",
        "  # 3. Zero gradients\n",
        "  optimizer.zero_grad()\n",
        "\n",
        "  # 4. Backpropagation\n",
        "  loss.backward()\n",
        "\n",
        "  # 5. Step the optimizer\n",
        "  optimizer.step()\n",
        "\n",
        "  ### Perform testing every 20 epochs\n",
        "  if epoch % 20 == 0:\n",
        "\n",
        "    # Put model in evaluation mode and setup inference context\n",
        "    model_0.eval()\n",
        "    with torch.inference_mode():\n",
        "      # 1. Forward pass\n",
        "      test_pred = model_0(X_test)\n",
        "\n",
        "      # 2. Calculate loss\n",
        "      test_loss = loss_fn(test_pred, y_test)\n",
        "\n",
        "      # Print out what's happening\n",
        "      print(f\"Epoch: {epoch} | Train loss: {loss:.2f} | Test loss: {test_loss:.2f}\")"
      ],
      "metadata": {
        "id": "xpE83NvNnkdV",
        "colab": {
          "base_uri": "https://localhost:8080/"
        },
        "outputId": "d1fdd2b4-5658-40a7-ed7c-4527dad2bf8c"
      },
      "execution_count": 170,
      "outputs": [
        {
          "output_type": "stream",
          "name": "stdout",
          "text": [
            "Epoch: 0 | Train loss: 0.13 | Test loss: 0.34\n",
            "Epoch: 20 | Train loss: 0.11 | Test loss: 0.31\n",
            "Epoch: 40 | Train loss: 0.10 | Test loss: 0.28\n",
            "Epoch: 60 | Train loss: 0.09 | Test loss: 0.26\n",
            "Epoch: 80 | Train loss: 0.09 | Test loss: 0.24\n",
            "Epoch: 100 | Train loss: 0.08 | Test loss: 0.22\n",
            "Epoch: 120 | Train loss: 0.08 | Test loss: 0.21\n",
            "Epoch: 140 | Train loss: 0.08 | Test loss: 0.20\n",
            "Epoch: 160 | Train loss: 0.08 | Test loss: 0.19\n",
            "Epoch: 180 | Train loss: 0.07 | Test loss: 0.18\n",
            "Epoch: 200 | Train loss: 0.07 | Test loss: 0.18\n",
            "Epoch: 220 | Train loss: 0.07 | Test loss: 0.17\n",
            "Epoch: 240 | Train loss: 0.07 | Test loss: 0.17\n",
            "Epoch: 260 | Train loss: 0.07 | Test loss: 0.16\n",
            "Epoch: 280 | Train loss: 0.07 | Test loss: 0.16\n",
            "Epoch: 300 | Train loss: 0.07 | Test loss: 0.15\n",
            "Epoch: 320 | Train loss: 0.06 | Test loss: 0.15\n",
            "Epoch: 340 | Train loss: 0.06 | Test loss: 0.15\n",
            "Epoch: 360 | Train loss: 0.06 | Test loss: 0.14\n",
            "Epoch: 380 | Train loss: 0.06 | Test loss: 0.14\n",
            "Epoch: 400 | Train loss: 0.06 | Test loss: 0.14\n",
            "Epoch: 420 | Train loss: 0.06 | Test loss: 0.13\n",
            "Epoch: 440 | Train loss: 0.06 | Test loss: 0.13\n",
            "Epoch: 460 | Train loss: 0.05 | Test loss: 0.13\n",
            "Epoch: 480 | Train loss: 0.05 | Test loss: 0.12\n",
            "Epoch: 500 | Train loss: 0.05 | Test loss: 0.12\n",
            "Epoch: 520 | Train loss: 0.05 | Test loss: 0.12\n",
            "Epoch: 540 | Train loss: 0.05 | Test loss: 0.11\n",
            "Epoch: 560 | Train loss: 0.05 | Test loss: 0.11\n",
            "Epoch: 580 | Train loss: 0.05 | Test loss: 0.11\n",
            "Epoch: 600 | Train loss: 0.04 | Test loss: 0.10\n",
            "Epoch: 620 | Train loss: 0.04 | Test loss: 0.10\n",
            "Epoch: 640 | Train loss: 0.04 | Test loss: 0.10\n",
            "Epoch: 660 | Train loss: 0.04 | Test loss: 0.09\n",
            "Epoch: 680 | Train loss: 0.04 | Test loss: 0.09\n",
            "Epoch: 700 | Train loss: 0.04 | Test loss: 0.09\n",
            "Epoch: 720 | Train loss: 0.04 | Test loss: 0.08\n",
            "Epoch: 740 | Train loss: 0.03 | Test loss: 0.08\n",
            "Epoch: 760 | Train loss: 0.03 | Test loss: 0.08\n",
            "Epoch: 780 | Train loss: 0.03 | Test loss: 0.08\n",
            "Epoch: 800 | Train loss: 0.03 | Test loss: 0.07\n",
            "Epoch: 820 | Train loss: 0.03 | Test loss: 0.07\n",
            "Epoch: 840 | Train loss: 0.03 | Test loss: 0.07\n",
            "Epoch: 860 | Train loss: 0.03 | Test loss: 0.06\n",
            "Epoch: 880 | Train loss: 0.03 | Test loss: 0.06\n",
            "Epoch: 900 | Train loss: 0.02 | Test loss: 0.06\n",
            "Epoch: 920 | Train loss: 0.02 | Test loss: 0.05\n",
            "Epoch: 940 | Train loss: 0.02 | Test loss: 0.05\n",
            "Epoch: 960 | Train loss: 0.02 | Test loss: 0.05\n",
            "Epoch: 980 | Train loss: 0.02 | Test loss: 0.04\n",
            "Epoch: 1000 | Train loss: 0.02 | Test loss: 0.04\n",
            "Epoch: 1020 | Train loss: 0.02 | Test loss: 0.04\n",
            "Epoch: 1040 | Train loss: 0.01 | Test loss: 0.03\n",
            "Epoch: 1060 | Train loss: 0.01 | Test loss: 0.03\n",
            "Epoch: 1080 | Train loss: 0.01 | Test loss: 0.03\n",
            "Epoch: 1100 | Train loss: 0.01 | Test loss: 0.02\n",
            "Epoch: 1120 | Train loss: 0.01 | Test loss: 0.02\n",
            "Epoch: 1140 | Train loss: 0.01 | Test loss: 0.02\n",
            "Epoch: 1160 | Train loss: 0.01 | Test loss: 0.01\n",
            "Epoch: 1180 | Train loss: 0.00 | Test loss: 0.01\n",
            "Epoch: 1200 | Train loss: 0.00 | Test loss: 0.01\n",
            "Epoch: 1220 | Train loss: 0.00 | Test loss: 0.00\n",
            "Epoch: 1240 | Train loss: 0.00 | Test loss: 0.00\n",
            "Epoch: 1260 | Train loss: 0.00 | Test loss: 0.00\n",
            "Epoch: 1280 | Train loss: 0.00 | Test loss: 0.00\n",
            "Epoch: 1300 | Train loss: 0.00 | Test loss: 0.00\n",
            "Epoch: 1320 | Train loss: 0.00 | Test loss: 0.00\n",
            "Epoch: 1340 | Train loss: 0.00 | Test loss: 0.00\n",
            "Epoch: 1360 | Train loss: 0.00 | Test loss: 0.00\n",
            "Epoch: 1380 | Train loss: 0.00 | Test loss: 0.00\n",
            "Epoch: 1400 | Train loss: 0.00 | Test loss: 0.00\n",
            "Epoch: 1420 | Train loss: 0.00 | Test loss: 0.00\n",
            "Epoch: 1440 | Train loss: 0.00 | Test loss: 0.00\n",
            "Epoch: 1460 | Train loss: 0.00 | Test loss: 0.00\n",
            "Epoch: 1480 | Train loss: 0.00 | Test loss: 0.00\n",
            "Epoch: 1500 | Train loss: 0.00 | Test loss: 0.00\n",
            "Epoch: 1520 | Train loss: 0.00 | Test loss: 0.00\n",
            "Epoch: 1540 | Train loss: 0.00 | Test loss: 0.00\n",
            "Epoch: 1560 | Train loss: 0.00 | Test loss: 0.00\n",
            "Epoch: 1580 | Train loss: 0.00 | Test loss: 0.00\n",
            "Epoch: 1600 | Train loss: 0.00 | Test loss: 0.00\n",
            "Epoch: 1620 | Train loss: 0.00 | Test loss: 0.00\n",
            "Epoch: 1640 | Train loss: 0.00 | Test loss: 0.00\n",
            "Epoch: 1660 | Train loss: 0.00 | Test loss: 0.00\n",
            "Epoch: 1680 | Train loss: 0.00 | Test loss: 0.00\n",
            "Epoch: 1700 | Train loss: 0.00 | Test loss: 0.00\n",
            "Epoch: 1720 | Train loss: 0.00 | Test loss: 0.00\n",
            "Epoch: 1740 | Train loss: 0.00 | Test loss: 0.00\n",
            "Epoch: 1760 | Train loss: 0.00 | Test loss: 0.00\n",
            "Epoch: 1780 | Train loss: 0.00 | Test loss: 0.00\n",
            "Epoch: 1800 | Train loss: 0.00 | Test loss: 0.00\n",
            "Epoch: 1820 | Train loss: 0.00 | Test loss: 0.00\n",
            "Epoch: 1840 | Train loss: 0.00 | Test loss: 0.00\n",
            "Epoch: 1860 | Train loss: 0.00 | Test loss: 0.00\n",
            "Epoch: 1880 | Train loss: 0.00 | Test loss: 0.00\n",
            "Epoch: 1900 | Train loss: 0.00 | Test loss: 0.00\n",
            "Epoch: 1920 | Train loss: 0.00 | Test loss: 0.00\n",
            "Epoch: 1940 | Train loss: 0.00 | Test loss: 0.00\n",
            "Epoch: 1960 | Train loss: 0.00 | Test loss: 0.00\n",
            "Epoch: 1980 | Train loss: 0.00 | Test loss: 0.00\n",
            "Epoch: 2000 | Train loss: 0.00 | Test loss: 0.00\n",
            "Epoch: 2020 | Train loss: 0.00 | Test loss: 0.00\n",
            "Epoch: 2040 | Train loss: 0.00 | Test loss: 0.00\n",
            "Epoch: 2060 | Train loss: 0.00 | Test loss: 0.00\n",
            "Epoch: 2080 | Train loss: 0.00 | Test loss: 0.00\n",
            "Epoch: 2100 | Train loss: 0.00 | Test loss: 0.00\n",
            "Epoch: 2120 | Train loss: 0.00 | Test loss: 0.00\n",
            "Epoch: 2140 | Train loss: 0.00 | Test loss: 0.00\n",
            "Epoch: 2160 | Train loss: 0.00 | Test loss: 0.00\n",
            "Epoch: 2180 | Train loss: 0.00 | Test loss: 0.00\n",
            "Epoch: 2200 | Train loss: 0.00 | Test loss: 0.00\n",
            "Epoch: 2220 | Train loss: 0.00 | Test loss: 0.00\n",
            "Epoch: 2240 | Train loss: 0.00 | Test loss: 0.00\n",
            "Epoch: 2260 | Train loss: 0.00 | Test loss: 0.00\n",
            "Epoch: 2280 | Train loss: 0.00 | Test loss: 0.00\n",
            "Epoch: 2300 | Train loss: 0.00 | Test loss: 0.00\n",
            "Epoch: 2320 | Train loss: 0.00 | Test loss: 0.00\n",
            "Epoch: 2340 | Train loss: 0.00 | Test loss: 0.00\n",
            "Epoch: 2360 | Train loss: 0.00 | Test loss: 0.00\n",
            "Epoch: 2380 | Train loss: 0.00 | Test loss: 0.00\n",
            "Epoch: 2400 | Train loss: 0.00 | Test loss: 0.00\n",
            "Epoch: 2420 | Train loss: 0.00 | Test loss: 0.00\n",
            "Epoch: 2440 | Train loss: 0.00 | Test loss: 0.00\n",
            "Epoch: 2460 | Train loss: 0.00 | Test loss: 0.00\n",
            "Epoch: 2480 | Train loss: 0.00 | Test loss: 0.00\n",
            "Epoch: 2500 | Train loss: 0.00 | Test loss: 0.00\n",
            "Epoch: 2520 | Train loss: 0.00 | Test loss: 0.00\n",
            "Epoch: 2540 | Train loss: 0.00 | Test loss: 0.00\n",
            "Epoch: 2560 | Train loss: 0.00 | Test loss: 0.00\n",
            "Epoch: 2580 | Train loss: 0.00 | Test loss: 0.00\n",
            "Epoch: 2600 | Train loss: 0.00 | Test loss: 0.00\n",
            "Epoch: 2620 | Train loss: 0.00 | Test loss: 0.00\n",
            "Epoch: 2640 | Train loss: 0.00 | Test loss: 0.00\n",
            "Epoch: 2660 | Train loss: 0.00 | Test loss: 0.00\n",
            "Epoch: 2680 | Train loss: 0.00 | Test loss: 0.00\n",
            "Epoch: 2700 | Train loss: 0.00 | Test loss: 0.00\n",
            "Epoch: 2720 | Train loss: 0.00 | Test loss: 0.00\n",
            "Epoch: 2740 | Train loss: 0.00 | Test loss: 0.00\n",
            "Epoch: 2760 | Train loss: 0.00 | Test loss: 0.00\n",
            "Epoch: 2780 | Train loss: 0.00 | Test loss: 0.00\n",
            "Epoch: 2800 | Train loss: 0.00 | Test loss: 0.00\n",
            "Epoch: 2820 | Train loss: 0.00 | Test loss: 0.00\n",
            "Epoch: 2840 | Train loss: 0.00 | Test loss: 0.00\n",
            "Epoch: 2860 | Train loss: 0.00 | Test loss: 0.00\n",
            "Epoch: 2880 | Train loss: 0.00 | Test loss: 0.00\n",
            "Epoch: 2900 | Train loss: 0.00 | Test loss: 0.00\n",
            "Epoch: 2920 | Train loss: 0.00 | Test loss: 0.00\n",
            "Epoch: 2940 | Train loss: 0.00 | Test loss: 0.00\n",
            "Epoch: 2960 | Train loss: 0.00 | Test loss: 0.00\n",
            "Epoch: 2980 | Train loss: 0.00 | Test loss: 0.00\n",
            "Epoch: 3000 | Train loss: 0.00 | Test loss: 0.00\n",
            "Epoch: 3020 | Train loss: 0.00 | Test loss: 0.00\n",
            "Epoch: 3040 | Train loss: 0.00 | Test loss: 0.00\n",
            "Epoch: 3060 | Train loss: 0.00 | Test loss: 0.00\n",
            "Epoch: 3080 | Train loss: 0.00 | Test loss: 0.00\n",
            "Epoch: 3100 | Train loss: 0.00 | Test loss: 0.00\n",
            "Epoch: 3120 | Train loss: 0.00 | Test loss: 0.00\n",
            "Epoch: 3140 | Train loss: 0.00 | Test loss: 0.00\n",
            "Epoch: 3160 | Train loss: 0.00 | Test loss: 0.00\n",
            "Epoch: 3180 | Train loss: 0.00 | Test loss: 0.00\n",
            "Epoch: 3200 | Train loss: 0.00 | Test loss: 0.00\n",
            "Epoch: 3220 | Train loss: 0.00 | Test loss: 0.00\n",
            "Epoch: 3240 | Train loss: 0.00 | Test loss: 0.00\n",
            "Epoch: 3260 | Train loss: 0.00 | Test loss: 0.00\n",
            "Epoch: 3280 | Train loss: 0.00 | Test loss: 0.00\n",
            "Epoch: 3300 | Train loss: 0.00 | Test loss: 0.00\n",
            "Epoch: 3320 | Train loss: 0.00 | Test loss: 0.00\n",
            "Epoch: 3340 | Train loss: 0.00 | Test loss: 0.00\n",
            "Epoch: 3360 | Train loss: 0.00 | Test loss: 0.00\n",
            "Epoch: 3380 | Train loss: 0.00 | Test loss: 0.00\n",
            "Epoch: 3400 | Train loss: 0.00 | Test loss: 0.00\n",
            "Epoch: 3420 | Train loss: 0.00 | Test loss: 0.00\n",
            "Epoch: 3440 | Train loss: 0.00 | Test loss: 0.00\n",
            "Epoch: 3460 | Train loss: 0.00 | Test loss: 0.00\n",
            "Epoch: 3480 | Train loss: 0.00 | Test loss: 0.00\n",
            "Epoch: 3500 | Train loss: 0.00 | Test loss: 0.00\n",
            "Epoch: 3520 | Train loss: 0.00 | Test loss: 0.00\n",
            "Epoch: 3540 | Train loss: 0.00 | Test loss: 0.00\n",
            "Epoch: 3560 | Train loss: 0.00 | Test loss: 0.00\n",
            "Epoch: 3580 | Train loss: 0.00 | Test loss: 0.00\n",
            "Epoch: 3600 | Train loss: 0.00 | Test loss: 0.00\n",
            "Epoch: 3620 | Train loss: 0.00 | Test loss: 0.00\n",
            "Epoch: 3640 | Train loss: 0.00 | Test loss: 0.00\n",
            "Epoch: 3660 | Train loss: 0.00 | Test loss: 0.00\n",
            "Epoch: 3680 | Train loss: 0.00 | Test loss: 0.00\n",
            "Epoch: 3700 | Train loss: 0.00 | Test loss: 0.00\n",
            "Epoch: 3720 | Train loss: 0.00 | Test loss: 0.00\n",
            "Epoch: 3740 | Train loss: 0.00 | Test loss: 0.00\n",
            "Epoch: 3760 | Train loss: 0.00 | Test loss: 0.00\n",
            "Epoch: 3780 | Train loss: 0.00 | Test loss: 0.00\n",
            "Epoch: 3800 | Train loss: 0.00 | Test loss: 0.00\n",
            "Epoch: 3820 | Train loss: 0.00 | Test loss: 0.00\n",
            "Epoch: 3840 | Train loss: 0.00 | Test loss: 0.00\n",
            "Epoch: 3860 | Train loss: 0.00 | Test loss: 0.00\n",
            "Epoch: 3880 | Train loss: 0.00 | Test loss: 0.00\n",
            "Epoch: 3900 | Train loss: 0.00 | Test loss: 0.00\n",
            "Epoch: 3920 | Train loss: 0.00 | Test loss: 0.00\n",
            "Epoch: 3940 | Train loss: 0.00 | Test loss: 0.00\n",
            "Epoch: 3960 | Train loss: 0.00 | Test loss: 0.00\n",
            "Epoch: 3980 | Train loss: 0.00 | Test loss: 0.00\n",
            "Epoch: 4000 | Train loss: 0.00 | Test loss: 0.00\n",
            "Epoch: 4020 | Train loss: 0.00 | Test loss: 0.00\n",
            "Epoch: 4040 | Train loss: 0.00 | Test loss: 0.00\n",
            "Epoch: 4060 | Train loss: 0.00 | Test loss: 0.00\n",
            "Epoch: 4080 | Train loss: 0.00 | Test loss: 0.00\n",
            "Epoch: 4100 | Train loss: 0.00 | Test loss: 0.00\n",
            "Epoch: 4120 | Train loss: 0.00 | Test loss: 0.00\n",
            "Epoch: 4140 | Train loss: 0.00 | Test loss: 0.00\n",
            "Epoch: 4160 | Train loss: 0.00 | Test loss: 0.00\n",
            "Epoch: 4180 | Train loss: 0.00 | Test loss: 0.00\n",
            "Epoch: 4200 | Train loss: 0.00 | Test loss: 0.00\n",
            "Epoch: 4220 | Train loss: 0.00 | Test loss: 0.00\n",
            "Epoch: 4240 | Train loss: 0.00 | Test loss: 0.00\n",
            "Epoch: 4260 | Train loss: 0.00 | Test loss: 0.00\n",
            "Epoch: 4280 | Train loss: 0.00 | Test loss: 0.00\n",
            "Epoch: 4300 | Train loss: 0.00 | Test loss: 0.00\n",
            "Epoch: 4320 | Train loss: 0.00 | Test loss: 0.00\n",
            "Epoch: 4340 | Train loss: 0.00 | Test loss: 0.00\n",
            "Epoch: 4360 | Train loss: 0.00 | Test loss: 0.00\n",
            "Epoch: 4380 | Train loss: 0.00 | Test loss: 0.00\n",
            "Epoch: 4400 | Train loss: 0.00 | Test loss: 0.00\n",
            "Epoch: 4420 | Train loss: 0.00 | Test loss: 0.00\n",
            "Epoch: 4440 | Train loss: 0.00 | Test loss: 0.00\n",
            "Epoch: 4460 | Train loss: 0.00 | Test loss: 0.00\n",
            "Epoch: 4480 | Train loss: 0.00 | Test loss: 0.00\n",
            "Epoch: 4500 | Train loss: 0.00 | Test loss: 0.00\n",
            "Epoch: 4520 | Train loss: 0.00 | Test loss: 0.00\n",
            "Epoch: 4540 | Train loss: 0.00 | Test loss: 0.00\n",
            "Epoch: 4560 | Train loss: 0.00 | Test loss: 0.00\n",
            "Epoch: 4580 | Train loss: 0.00 | Test loss: 0.00\n",
            "Epoch: 4600 | Train loss: 0.00 | Test loss: 0.00\n",
            "Epoch: 4620 | Train loss: 0.00 | Test loss: 0.00\n",
            "Epoch: 4640 | Train loss: 0.00 | Test loss: 0.00\n",
            "Epoch: 4660 | Train loss: 0.00 | Test loss: 0.00\n",
            "Epoch: 4680 | Train loss: 0.00 | Test loss: 0.00\n",
            "Epoch: 4700 | Train loss: 0.00 | Test loss: 0.00\n",
            "Epoch: 4720 | Train loss: 0.00 | Test loss: 0.00\n",
            "Epoch: 4740 | Train loss: 0.00 | Test loss: 0.00\n",
            "Epoch: 4760 | Train loss: 0.00 | Test loss: 0.00\n",
            "Epoch: 4780 | Train loss: 0.00 | Test loss: 0.00\n",
            "Epoch: 4800 | Train loss: 0.00 | Test loss: 0.00\n",
            "Epoch: 4820 | Train loss: 0.00 | Test loss: 0.00\n",
            "Epoch: 4840 | Train loss: 0.00 | Test loss: 0.00\n",
            "Epoch: 4860 | Train loss: 0.00 | Test loss: 0.00\n",
            "Epoch: 4880 | Train loss: 0.00 | Test loss: 0.00\n",
            "Epoch: 4900 | Train loss: 0.00 | Test loss: 0.00\n",
            "Epoch: 4920 | Train loss: 0.00 | Test loss: 0.00\n",
            "Epoch: 4940 | Train loss: 0.00 | Test loss: 0.00\n",
            "Epoch: 4960 | Train loss: 0.00 | Test loss: 0.00\n",
            "Epoch: 4980 | Train loss: 0.00 | Test loss: 0.00\n"
          ]
        }
      ]
    },
    {
      "cell_type": "markdown",
      "source": [
        "## 4. Make predictions with the trained model on the test data.\n",
        "  * Visualize these predictions against the original training and testing data (**note:** you may need to make sure the predictions are *not* on the GPU if you want to use non-CUDA-enabled libraries such as matplotlib to plot)."
      ],
      "metadata": {
        "id": "x4j4TM18jwa7"
      }
    },
    {
      "cell_type": "code",
      "source": [
        "# Make predictions with the model\n",
        "model_0.eval()\n",
        "with torch.inference_mode():\n",
        "  y_preds = model_0(X_test)\n",
        "y_preds"
      ],
      "metadata": {
        "id": "bbMPK5Qjjyx_",
        "colab": {
          "base_uri": "https://localhost:8080/"
        },
        "outputId": "30ac5747-63e8-44df-c77d-dcfc5b39758f"
      },
      "execution_count": 171,
      "outputs": [
        {
          "output_type": "execute_result",
          "data": {
            "text/plain": [
              "tensor([[1.1416],\n",
              "        [1.1477],\n",
              "        [1.1537],\n",
              "        [1.1597],\n",
              "        [1.1658],\n",
              "        [1.1718],\n",
              "        [1.1778],\n",
              "        [1.1839],\n",
              "        [1.1899],\n",
              "        [1.1959]], device='cuda:0')"
            ]
          },
          "metadata": {},
          "execution_count": 171
        }
      ]
    },
    {
      "cell_type": "code",
      "source": [
        "# Plot the predictions (these may need to be on a specific device)\n",
        "\n",
        "plot_predictions(predictions=y_preds.cpu())"
      ],
      "metadata": {
        "id": "K3BdmQaDpFo8",
        "colab": {
          "base_uri": "https://localhost:8080/",
          "height": 599
        },
        "outputId": "2fd7634d-b088-4844-b6fb-7bd8b5cb6436"
      },
      "execution_count": 172,
      "outputs": [
        {
          "output_type": "display_data",
          "data": {
            "text/plain": [
              "<Figure size 1000x700 with 1 Axes>"
            ],
            "image/png": "[encoded data removed]"
          },
          "metadata": {}
        }
      ]
    },
    {
      "cell_type": "markdown",
      "source": [
        "## 5. Save your trained model's `state_dict()` to file.\n",
        "  * Create a new instance of your model class you made in 2. and load in the `state_dict()` you just saved to it.\n",
        "  * Perform predictions on your test data with the loaded model and confirm they match the original model predictions from 4."
      ],
      "metadata": {
        "id": "s2OnlMWKjzX8"
      }
    },
    {
      "cell_type": "code",
      "source": [
        "from pathlib import Path\n",
        "\n",
        "# 1. Create models directory\n",
        "MODEL_PATH = Path(\"models\")\n",
        "MODEL_PATH.mkdir(parents=True, exist_ok=True)\n",
        "\n",
        "# 2. Create model save path\n",
        "MODEL_NAME = \"01_pytorch_model\"\n",
        "MODEL_SAVE_PATH = MODEL_PATH / MODEL_NAME\n",
        "\n",
        "# 3. Save the model state dict\n",
        "print(f\"Saving model to: {MODEL_SAVE_PATH}\")\n",
        "torch.save(obj=model_0.state_dict(), f=MODEL_SAVE_PATH)\n"
      ],
      "metadata": {
        "id": "hgxhgD14qr-i",
        "colab": {
          "base_uri": "https://localhost:8080/"
        },
        "outputId": "07df8d48-6219-4d3d-87d4-cb61a549abde"
      },
      "execution_count": 177,
      "outputs": [
        {
          "output_type": "stream",
          "name": "stdout",
          "text": [
            "Saving model to: models/01_pytorch_model\n"
          ]
        }
      ]
    },
    {
      "cell_type": "markdown",
      "source": [
        "## The model creation is done but if we want to use it we need to know how to load the model"
      ],
      "metadata": {
        "id": "V3F6RMaF1nnQ"
      }
    },
    {
      "cell_type": "code",
      "source": [
        "# Create new instance of model and load saved state dict (make sure to put it on the target device)\n",
        "loaded_model = LRModel()\n",
        "loaded_model.load_state_dict(torch.load(MODEL_SAVE_PATH))\n",
        "loaded_model.to(device)"
      ],
      "metadata": {
        "id": "P9vTgiLRrJ7T",
        "colab": {
          "base_uri": "https://localhost:8080/"
        },
        "outputId": "aa5077ff-54ee-472e-fe0d-6ef2611252f5"
      },
      "execution_count": 179,
      "outputs": [
        {
          "output_type": "execute_result",
          "data": {
            "text/plain": [
              "LRModel(\n",
              "  (linear_layer): Linear(in_features=1, out_features=1, bias=True)\n",
              ")"
            ]
          },
          "metadata": {},
          "execution_count": 179
        }
      ]
    },
    {
      "cell_type": "code",
      "source": [
        "# Make predictions with loaded model and compare them to the previous\n",
        "y_preds_loaded = loaded_model(X_test)\n",
        "y_preds_loaded"
      ],
      "metadata": {
        "id": "8UGX3VebrVtI",
        "colab": {
          "base_uri": "https://localhost:8080/"
        },
        "outputId": "c0a4db3c-50a9-4d4b-891b-4e5ee301a297"
      },
      "execution_count": 181,
      "outputs": [
        {
          "output_type": "execute_result",
          "data": {
            "text/plain": [
              "tensor([[1.1416],\n",
              "        [1.1477],\n",
              "        [1.1537],\n",
              "        [1.1597],\n",
              "        [1.1658],\n",
              "        [1.1718],\n",
              "        [1.1778],\n",
              "        [1.1839],\n",
              "        [1.1899],\n",
              "        [1.1959]], device='cuda:0', grad_fn=<AddmmBackward0>)"
            ]
          },
          "metadata": {},
          "execution_count": 181
        }
      ]
    },
    {
      "cell_type": "code",
      "source": [
        "plot_predictions(predictions=y_preds_loaded.detach().cpu().numpy())"
      ],
      "metadata": {
        "colab": {
          "base_uri": "https://localhost:8080/",
          "height": 599
        },
        "id": "NYGM38tQ2j5v",
        "outputId": "08249136-fd22-45ae-b043-a7ccaad3b27a"
      },
      "execution_count": 183,
      "outputs": [
        {
          "output_type": "display_data",
          "data": {
            "text/plain": [
              "<Figure size 1000x700 with 1 Axes>"
            ],
            "image/png": "[encoded data removed]"
          },
          "metadata": {}
        }
      ]
    },
    {
      "cell_type": "code",
      "source": [
        "loaded_model.state_dict()"
      ],
      "metadata": {
        "colab": {
          "base_uri": "https://localhost:8080/"
        },
        "id": "1BEtFPR_2qw_",
        "outputId": "a5537218-ed18-4472-921f-5c879770a5ab"
      },
      "execution_count": 184,
      "outputs": [
        {
          "output_type": "execute_result",
          "data": {
            "text/plain": [
              "OrderedDict([('linear_layer.weight', tensor([[0.3018]], device='cuda:0')),\n",
              "             ('linear_layer.bias', tensor([0.9002], device='cuda:0'))])"
            ]
          },
          "metadata": {},
          "execution_count": 184
        }
      ]
    },
    {
      "cell_type": "code",
      "source": [],
      "metadata": {
        "id": "r3RsWndH3aB3"
      },
      "execution_count": null,
      "outputs": []
    }
  ]
}