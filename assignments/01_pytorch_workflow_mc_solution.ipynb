{
  "cells": [
    {
      "cell_type": "markdown",
      "metadata": {
        "id": "view-in-github"
      },
      "source": [
        "<a href=\"https://colab.research.google.com/github/mrdbourke/pytorch-deep-learning/blob/main/extras/exercises/01_pytorch_workflow_exercises.ipynb\" target=\"_parent\"><img src=\"https://colab.research.google.com/assets/colab-badge.svg\" alt=\"Open In Colab\"/></a>"
      ]
    },
    {
      "cell_type": "markdown",
      "metadata": {
        "id": "N8LsPXZti9Sw"
      },
      "source": [
        "# 01. PyTorch Workflow Exercise Template\n",
        "\n",
        "The following is a template for the PyTorch workflow exercises.\n",
        "\n",
        "It's only starter code and it's your job to fill in the blanks.\n",
        "\n",
        "Because of the flexibility of PyTorch, there may be more than one way to answer the question.\n",
        "\n",
        "Don't worry about trying to be *right* just try writing code that suffices the question.\n",
        "\n",
        "You can see one form of [solutions on GitHub](https://github.com/mrdbourke/pytorch-deep-learning/tree/main/extras/solutions) (but try the exercises below yourself first!)."
      ]
    },
    {
      "cell_type": "code",
      "execution_count": 76,
      "metadata": {
        "id": "Glu2fM4dkNlx"
      },
      "outputs": [],
      "source": [
        "# Import necessary libraries\n",
        "import torch\n",
        "from torch import nn\n",
        "import matplotlib.pyplot as plt"
      ]
    },
    {
      "cell_type": "code",
      "execution_count": 77,
      "metadata": {
        "colab": {
          "base_uri": "https://localhost:8080/",
          "height": 35
        },
        "id": "LqKhXY26m31s",
        "outputId": "61d2c3ac-7c85-4577-fc36-abdeaf668b21"
      },
      "outputs": [
        {
          "data": {
            "text/plain": [
              "'cpu'"
            ]
          },
          "execution_count": 77,
          "metadata": {},
          "output_type": "execute_result"
        }
      ],
      "source": [
        "# Setup device-agnostic code\n",
        "device = \"cuda\" if torch.cuda.is_available() else \"cpu\"\n",
        "device"
      ]
    },
    {
      "cell_type": "markdown",
      "metadata": {
        "id": "g7HUhxCxjeBx"
      },
      "source": [
        "## 1. Create a straight line dataset using the linear regression formula (`weight * X + bias`).\n",
        "  * Set `weight=0.3` and `bias=0.9` there should be at least 100 datapoints total.\n",
        "  * Split the data into 80% training, 20% testing.\n",
        "  * Plot the training and testing data so it becomes visual.\n",
        "\n",
        "Your output of the below cell should look something like:\n",
        "```\n",
        "Number of X samples: 100\n",
        "Number of y samples: 100\n",
        "First 10 X & y samples:\n",
        "X: tensor([0.0000, 0.0100, 0.0200, 0.0300, 0.0400, 0.0500, 0.0600, 0.0700, 0.0800,\n",
        "        0.0900])\n",
        "y: tensor([0.9000, 0.9030, 0.9060, 0.9090, 0.9120, 0.9150, 0.9180, 0.9210, 0.9240,\n",
        "        0.9270])\n",
        "```\n",
        "\n",
        "Of course the numbers in `X` and `y` may be different but ideally they're created using the linear regression formula."
      ]
    },
    {
      "cell_type": "code",
      "execution_count": 78,
      "metadata": {
        "colab": {
          "base_uri": "https://localhost:8080/"
        },
        "id": "KbDG5MV7jhvE",
        "outputId": "a041f104-9f08-4f4a-be2e-67590f06d789"
      },
      "outputs": [
        {
          "name": "stdout",
          "output_type": "stream",
          "text": [
            "Number of X samples: 50\n",
            "Number of y samples: 50\n",
            "First 10 X & y samples:\n",
            "X: tensor([[0.0000],\n",
            "        [0.0200],\n",
            "        [0.0400],\n",
            "        [0.0600],\n",
            "        [0.0800],\n",
            "        [0.1000],\n",
            "        [0.1200],\n",
            "        [0.1400],\n",
            "        [0.1600],\n",
            "        [0.1800]])\n",
            "y: tensor([[0.9000],\n",
            "        [0.9060],\n",
            "        [0.9120],\n",
            "        [0.9180],\n",
            "        [0.9240],\n",
            "        [0.9300],\n",
            "        [0.9360],\n",
            "        [0.9420],\n",
            "        [0.9480],\n",
            "        [0.9540]])\n"
          ]
        }
      ],
      "source": [
        "# Create the data parameters\n",
        "weight = 0.3\n",
        "bias = 0.9\n",
        "\n",
        "# Make X and y using linear regression feature\n",
        "X = torch.arange(0, 1, 0.02).unsqueeze(dim=1)\n",
        "y = weight * X + bias\n",
        "\n",
        "print(f\"Number of X samples: {len(X)}\")\n",
        "print(f\"Number of y samples: {len(y)}\")\n",
        "print(f\"First 10 X & y samples:\\nX: {X[:10]}\\ny: {y[:10]}\")"
      ]
    },
    {
      "cell_type": "code",
      "execution_count": 79,
      "metadata": {
        "colab": {
          "base_uri": "https://localhost:8080/"
        },
        "id": "GlwtT1djkmLw",
        "outputId": "c03d5e35-f444-421d-f5a8-b238ac490ea1"
      },
      "outputs": [
        {
          "name": "stdout",
          "output_type": "stream",
          "text": [
            "Number of training samples: 40\n",
            "Number of testing samples: 10\n"
          ]
        }
      ],
      "source": [
        "# Split the data into training and testing\n",
        "train_split = int(0.8 * len(X))\n",
        "X_train, y_train, X_test, y_test = X[:train_split], y[:train_split], X[train_split:], y[train_split:]\n",
        "print(f\"Number of training samples: {len(X_train)}\")\n",
        "print(f\"Number of testing samples: {len(X_test)}\")"
      ]
    },
    {
      "cell_type": "code",
      "execution_count": 80,
      "metadata": {
        "colab": {
          "base_uri": "https://localhost:8080/",
          "height": 616
        },
        "id": "29iQZFNhlYJ-",
        "outputId": "6b856003-6dfa-49e9-fbf2-61ae4bc4f184"
      },
      "outputs": [
        {
          "name": "stdout",
          "output_type": "stream",
          "text": [
            "No prediction data to plot\n"
          ]
        },
        {
          "data": {
            "image/png": "[encoded data removed]",
            "text/plain": [
              "<Figure size 1000x700 with 1 Axes>"
            ]
          },
          "metadata": {},
          "output_type": "display_data"
        }
      ],
      "source": [
        "# Plot the training and testing data\n",
        "def plot_predictions(train_data=X_train,\n",
        "                     train_labels=y_train,\n",
        "                     test_data=X_test,\n",
        "                     test_labels=y_test,\n",
        "                     predictions=None):\n",
        "  plt.figure(figsize=(10, 7))\n",
        "  plt.scatter(train_data, train_labels, c=\"r\", s=5, label=\"Train data\")\n",
        "  plt.scatter(test_data, test_labels, c=\"g\", s=5, label=\"Test data\")\n",
        "\n",
        "  if predictions is not None:\n",
        "    plt.scatter(test_data, predictions, c=\"b\", s=5, label=\"Predictions\")\n",
        "  else:\n",
        "    print(\"No prediction data to plot\")\n",
        "  plt.legend(prop = {'size': 14})\n",
        "plot_predictions()"
      ]
    },
    {
      "cell_type": "markdown",
      "metadata": {
        "id": "ImZoe3v8jif8"
      },
      "source": [
        "## 2. Build a PyTorch model by subclassing `nn.Module`.\n",
        "  * Inside should be a randomly initialized `nn.Parameter()` with `requires_grad=True`, one for `weights` and one for `bias`.\n",
        "  * Implement the `forward()` method to compute the linear regression function you used to create the dataset in 1.\n",
        "  * Once you've constructed the model, make an instance of it and check its `state_dict()`.\n",
        "  * **Note:** If you'd like to use `nn.Linear()` instead of `nn.Parameter()` you can."
      ]
    },
    {
      "cell_type": "code",
      "execution_count": 81,
      "metadata": {
        "colab": {
          "base_uri": "https://localhost:8080/"
        },
        "id": "qzd__Y5rjtB8",
        "outputId": "c1cd99bc-4e83-47f0-e86d-b42ea2e836a8"
      },
      "outputs": [
        {
          "data": {
            "text/plain": [
              "device(type='cpu')"
            ]
          },
          "execution_count": 81,
          "metadata": {},
          "output_type": "execute_result"
        }
      ],
      "source": [
        "# Create PyTorch linear regression model by subclassing nn.Module\n",
        "\n",
        "# optinon one\n",
        "# class LRModel(nn.Module):\n",
        "#   def __init__(self):\n",
        "#     super().__init__()\n",
        "#     self.weight = nn.Parameter(torch.randn(1, requires_grad=True, dtype=torch.float))\n",
        "#     self.bias = nn.Parameter(torch.randn(1, requires_grad=True, dtype=torch.float))\n",
        "\n",
        "#   def forward(self, X):\n",
        "#     return self.weight * X + self.bias\n",
        "\n",
        "class LRModel(nn.Module):\n",
        "  def __init__(self):\n",
        "    super().__init__()\n",
        "    self.linear_layer = nn.Linear(in_features=1, out_features=1)\n",
        "\n",
        "  def forward(self, X):\n",
        "    return self.linear_layer(X)\n",
        "\n",
        "torch.manual_seed(42)\n",
        "model_0 = LRModel()\n",
        "model_0,model_0.state_dict()\n",
        "next(model_0.parameters()).device"
      ]
    },
    {
      "cell_type": "code",
      "execution_count": 82,
      "metadata": {
        "colab": {
          "base_uri": "https://localhost:8080/"
        },
        "id": "5LdcDnmOmyQ2",
        "outputId": "3a34f951-e03e-4914-c68c-663e02dd413a"
      },
      "outputs": [
        {
          "data": {
            "text/plain": [
              "[Parameter containing:\n",
              " tensor([[0.7645]], requires_grad=True),\n",
              " Parameter containing:\n",
              " tensor([0.8300], requires_grad=True)]"
            ]
          },
          "execution_count": 82,
          "metadata": {},
          "output_type": "execute_result"
        }
      ],
      "source": [
        "# Instantiate the model and put it to the target device\n",
        "model_0.to(device)\n",
        "list(model_0.parameters())"
      ]
    },
    {
      "cell_type": "markdown",
      "metadata": {
        "id": "G6nYOrJhjtfu"
      },
      "source": [
        "## 3. Create a loss function and optimizer using `nn.L1Loss()` and `torch.optim.SGD(params, lr)` respectively.\n",
        "  * Set the learning rate of the optimizer to be 0.01 and the parameters to optimize should be the model parameters from the model you created in 2.\n",
        "  * Write a training loop to perform the appropriate training steps for 300 epochs.\n",
        "  * The training loop should test the model on the test dataset every 20 epochs."
      ]
    },
    {
      "cell_type": "code",
      "execution_count": 83,
      "metadata": {
        "id": "ltvoZ-FWjv1j"
      },
      "outputs": [],
      "source": [
        "# Create the loss function and optimizer\n",
        "loss_fn = nn.L1Loss()\n",
        "optimizer = torch.optim.SGD(params=model_0.parameters(), lr=0.005)"
      ]
    },
    {
      "cell_type": "code",
      "execution_count": 84,
      "metadata": {
        "colab": {
          "base_uri": "https://localhost:8080/"
        },
        "id": "xpE83NvNnkdV",
        "outputId": "d1fdd2b4-5658-40a7-ed7c-4527dad2bf8c"
      },
      "outputs": [
        {
          "name": "stdout",
          "output_type": "stream",
          "text": [
            "Epoch: 0 | Train loss: 0.126168 | Test loss: 0.338836\n",
            "Epoch: 20 | Train loss: 0.094429 | Test loss: 0.265940\n",
            "Epoch: 40 | Train loss: 0.082088 | Test loss: 0.220999\n",
            "Epoch: 60 | Train loss: 0.076206 | Test loss: 0.193537\n",
            "Epoch: 80 | Train loss: 0.072170 | Test loss: 0.176077\n",
            "Epoch: 100 | Train loss: 0.068680 | Test loss: 0.165057\n",
            "Epoch: 120 | Train loss: 0.065190 | Test loss: 0.154037\n",
            "Epoch: 140 | Train loss: 0.061716 | Test loss: 0.144047\n",
            "Epoch: 160 | Train loss: 0.058281 | Test loss: 0.135775\n",
            "Epoch: 180 | Train loss: 0.054849 | Test loss: 0.127847\n",
            "Epoch: 200 | Train loss: 0.051414 | Test loss: 0.119918\n",
            "Epoch: 220 | Train loss: 0.047978 | Test loss: 0.111646\n",
            "Epoch: 240 | Train loss: 0.044545 | Test loss: 0.103717\n",
            "Epoch: 260 | Train loss: 0.041112 | Test loss: 0.095788\n",
            "Epoch: 280 | Train loss: 0.037675 | Test loss: 0.087859\n",
            "Epoch: 300 | Train loss: 0.034242 | Test loss: 0.079587\n",
            "Epoch: 320 | Train loss: 0.030809 | Test loss: 0.071658\n",
            "Epoch: 340 | Train loss: 0.027373 | Test loss: 0.063729\n",
            "Epoch: 360 | Train loss: 0.023938 | Test loss: 0.055456\n",
            "Epoch: 380 | Train loss: 0.020506 | Test loss: 0.047527\n",
            "Epoch: 400 | Train loss: 0.017071 | Test loss: 0.039598\n",
            "Epoch: 420 | Train loss: 0.013635 | Test loss: 0.031669\n",
            "Epoch: 440 | Train loss: 0.010202 | Test loss: 0.023397\n",
            "Epoch: 460 | Train loss: 0.006769 | Test loss: 0.015468\n",
            "Epoch: 480 | Train loss: 0.003333 | Test loss: 0.007539\n",
            "Epoch: 500 | Train loss: 0.004489 | Test loss: 0.002572\n",
            "Epoch: 520 | Train loss: 0.000774 | Test loss: 0.000598\n",
            "Epoch: 540 | Train loss: 0.000774 | Test loss: 0.000598\n",
            "Epoch: 560 | Train loss: 0.000774 | Test loss: 0.000598\n",
            "Epoch: 580 | Train loss: 0.000774 | Test loss: 0.000598\n",
            "Epoch: 600 | Train loss: 0.000774 | Test loss: 0.000598\n",
            "Epoch: 620 | Train loss: 0.000774 | Test loss: 0.000598\n",
            "Epoch: 640 | Train loss: 0.000774 | Test loss: 0.000598\n",
            "Epoch: 660 | Train loss: 0.000774 | Test loss: 0.000598\n",
            "Epoch: 680 | Train loss: 0.000774 | Test loss: 0.000598\n",
            "Epoch: 700 | Train loss: 0.000774 | Test loss: 0.000598\n",
            "Epoch: 720 | Train loss: 0.000774 | Test loss: 0.000598\n",
            "Epoch: 740 | Train loss: 0.000774 | Test loss: 0.000598\n",
            "Epoch: 760 | Train loss: 0.000774 | Test loss: 0.000598\n",
            "Epoch: 780 | Train loss: 0.000774 | Test loss: 0.000598\n",
            "Epoch: 800 | Train loss: 0.000774 | Test loss: 0.000598\n",
            "Epoch: 820 | Train loss: 0.000774 | Test loss: 0.000598\n",
            "Epoch: 840 | Train loss: 0.000774 | Test loss: 0.000598\n",
            "Epoch: 860 | Train loss: 0.000774 | Test loss: 0.000598\n",
            "Epoch: 880 | Train loss: 0.000774 | Test loss: 0.000598\n",
            "Epoch: 900 | Train loss: 0.000774 | Test loss: 0.000598\n",
            "Epoch: 920 | Train loss: 0.000774 | Test loss: 0.000598\n",
            "Epoch: 940 | Train loss: 0.000774 | Test loss: 0.000598\n",
            "Epoch: 960 | Train loss: 0.000774 | Test loss: 0.000598\n",
            "Epoch: 980 | Train loss: 0.000774 | Test loss: 0.000598\n"
          ]
        }
      ],
      "source": [
        "# Training loop\n",
        "torch.manual_seed(42)\n",
        "\n",
        "epochs = 1000\n",
        "\n",
        "# send the data to the device\n",
        "X_train = X_train.to(device)\n",
        "y_train = y_train.to(device)\n",
        "X_test = X_test.to(device)\n",
        "y_test = y_test.to(device)\n",
        "\n",
        "# Train model for however many epochs\n",
        "for epoch in range(epochs):\n",
        "  #set new learning rate after so many epochs\n",
        "  if epoch > 500:\n",
        "    optimizer = torch.optim.SGD(params=model_0.parameters(), lr=0.001)\n",
        "  elif epoch > 700:\n",
        "    optimizer = torch.optim.SGD(params=model_0.parameters(), lr=0.0001)\n",
        "  else:\n",
        "    optimizer = torch.optim.SGD(params=model_0.parameters(), lr=0.005)\n",
        "  ### Training\n",
        "\n",
        "  # Put model in train mode\n",
        "  model_0.train()\n",
        "\n",
        "  # 1. Forward pass\n",
        "  y_pred = model_0(X_train)\n",
        "\n",
        "  # 2. Calculate loss\n",
        "  loss = loss_fn(y_pred, y_train)\n",
        "\n",
        "  # 3. Zero gradients\n",
        "  optimizer.zero_grad()\n",
        "\n",
        "  # 4. Backpropagation\n",
        "  loss.backward()\n",
        "\n",
        "  # 5. Step the optimizer\n",
        "  optimizer.step()\n",
        "\n",
        "  ### Perform testing every 20 epochs\n",
        "  if epoch % 20 == 0:\n",
        "\n",
        "    # Put model in evaluation mode and setup inference context\n",
        "    model_0.eval()\n",
        "    with torch.inference_mode():\n",
        "      # 1. Forward pass\n",
        "      test_pred = model_0(X_test)\n",
        "\n",
        "      # 2. Calculate loss\n",
        "      test_loss = loss_fn(test_pred, y_test)\n",
        "\n",
        "      # Print out what's happening\n",
        "      print(f\"Epoch: {epoch} | Train loss: {loss:.6f} | Test loss: {test_loss:.6f}\")"
      ]
    },
    {
      "cell_type": "markdown",
      "metadata": {
        "id": "x4j4TM18jwa7"
      },
      "source": [
        "## 4. Make predictions with the trained model on the test data.\n",
        "  * Visualize these predictions against the original training and testing data (**note:** you may need to make sure the predictions are *not* on the GPU if you want to use non-CUDA-enabled libraries such as matplotlib to plot)."
      ]
    },
    {
      "cell_type": "code",
      "execution_count": 85,
      "metadata": {
        "colab": {
          "base_uri": "https://localhost:8080/"
        },
        "id": "bbMPK5Qjjyx_",
        "outputId": "30ac5747-63e8-44df-c77d-dcfc5b39758f"
      },
      "outputs": [
        {
          "data": {
            "text/plain": [
              "tensor([[1.1392],\n",
              "        [1.1452],\n",
              "        [1.1512],\n",
              "        [1.1572],\n",
              "        [1.1633],\n",
              "        [1.1693],\n",
              "        [1.1753],\n",
              "        [1.1813],\n",
              "        [1.1873],\n",
              "        [1.1933]])"
            ]
          },
          "execution_count": 85,
          "metadata": {},
          "output_type": "execute_result"
        }
      ],
      "source": [
        "# Make predictions with the model\n",
        "model_0.eval()\n",
        "with torch.inference_mode():\n",
        "  y_preds = model_0(X_test)\n",
        "y_preds"
      ]
    },
    {
      "cell_type": "code",
      "execution_count": 86,
      "metadata": {
        "colab": {
          "base_uri": "https://localhost:8080/",
          "height": 599
        },
        "id": "K3BdmQaDpFo8",
        "outputId": "2fd7634d-b088-4844-b6fb-7bd8b5cb6436"
      },
      "outputs": [
        {
          "data": {
            "image/png": "[encoded data removed]",
            "text/plain": [
              "<Figure size 1000x700 with 1 Axes>"
            ]
          },
          "metadata": {},
          "output_type": "display_data"
        }
      ],
      "source": [
        "# Plot the predictions (these may need to be on a specific device)\n",
        "\n",
        "plot_predictions(predictions=y_preds.cpu())"
      ]
    },
    {
      "cell_type": "markdown",
      "metadata": {
        "id": "s2OnlMWKjzX8"
      },
      "source": [
        "## 5. Save your trained model's `state_dict()` to file.\n",
        "  * Create a new instance of your model class you made in 2. and load in the `state_dict()` you just saved to it.\n",
        "  * Perform predictions on your test data with the loaded model and confirm they match the original model predictions from 4."
      ]
    },
    {
      "cell_type": "code",
      "execution_count": 87,
      "metadata": {
        "colab": {
          "base_uri": "https://localhost:8080/"
        },
        "id": "hgxhgD14qr-i",
        "outputId": "07df8d48-6219-4d3d-87d4-cb61a549abde"
      },
      "outputs": [
        {
          "name": "stdout",
          "output_type": "stream",
          "text": [
            "Saving model to: models\\01_pytorch_model\n"
          ]
        }
      ],
      "source": [
        "from pathlib import Path\n",
        "\n",
        "# 1. Create models directory\n",
        "MODEL_PATH = Path(\"models\")\n",
        "MODEL_PATH.mkdir(parents=True, exist_ok=True)\n",
        "\n",
        "# 2. Create model save path\n",
        "MODEL_NAME = \"01_pytorch_model\"\n",
        "MODEL_SAVE_PATH = MODEL_PATH / MODEL_NAME\n",
        "\n",
        "# 3. Save the model state dict\n",
        "print(f\"Saving model to: {MODEL_SAVE_PATH}\")\n",
        "torch.save(obj=model_0.state_dict(), f=MODEL_SAVE_PATH)\n"
      ]
    },
    {
      "cell_type": "markdown",
      "metadata": {
        "id": "V3F6RMaF1nnQ"
      },
      "source": [
        "## The model creation is done but if we want to use it we need to know how to load the model"
      ]
    },
    {
      "cell_type": "code",
      "execution_count": 88,
      "metadata": {
        "colab": {
          "base_uri": "https://localhost:8080/"
        },
        "id": "P9vTgiLRrJ7T",
        "outputId": "aa5077ff-54ee-472e-fe0d-6ef2611252f5"
      },
      "outputs": [
        {
          "data": {
            "text/plain": [
              "LRModel(\n",
              "  (linear_layer): Linear(in_features=1, out_features=1, bias=True)\n",
              ")"
            ]
          },
          "execution_count": 88,
          "metadata": {},
          "output_type": "execute_result"
        }
      ],
      "source": [
        "# Create new instance of model and load saved state dict (make sure to put it on the target device)\n",
        "loaded_model = LRModel()\n",
        "loaded_model.load_state_dict(torch.load(MODEL_SAVE_PATH))\n",
        "loaded_model.to(device)"
      ]
    },
    {
      "cell_type": "code",
      "execution_count": 89,
      "metadata": {
        "colab": {
          "base_uri": "https://localhost:8080/"
        },
        "id": "8UGX3VebrVtI",
        "outputId": "c0a4db3c-50a9-4d4b-891b-4e5ee301a297"
      },
      "outputs": [
        {
          "data": {
            "text/plain": [
              "tensor([[1.1392],\n",
              "        [1.1452],\n",
              "        [1.1512],\n",
              "        [1.1572],\n",
              "        [1.1633],\n",
              "        [1.1693],\n",
              "        [1.1753],\n",
              "        [1.1813],\n",
              "        [1.1873],\n",
              "        [1.1933]], grad_fn=<AddmmBackward0>)"
            ]
          },
          "execution_count": 89,
          "metadata": {},
          "output_type": "execute_result"
        }
      ],
      "source": [
        "# Make predictions with loaded model and compare them to the previous\n",
        "y_preds_loaded = loaded_model(X_test)\n",
        "y_preds_loaded"
      ]
    },
    {
      "cell_type": "code",
      "execution_count": 90,
      "metadata": {
        "colab": {
          "base_uri": "https://localhost:8080/",
          "height": 599
        },
        "id": "NYGM38tQ2j5v",
        "outputId": "08249136-fd22-45ae-b043-a7ccaad3b27a"
      },
      "outputs": [
        {
          "data": {
            "image/png": "[encoded data removed]",
            "text/plain": [
              "<Figure size 1000x700 with 1 Axes>"
            ]
          },
          "metadata": {},
          "output_type": "display_data"
        }
      ],
      "source": [
        "plot_predictions(predictions=y_preds_loaded.detach().cpu().numpy())"
      ]
    },
    {
      "cell_type": "code",
      "execution_count": 91,
      "metadata": {
        "colab": {
          "base_uri": "https://localhost:8080/"
        },
        "id": "1BEtFPR_2qw_",
        "outputId": "a5537218-ed18-4472-921f-5c879770a5ab"
      },
      "outputs": [
        {
          "data": {
            "text/plain": [
              "OrderedDict([('linear_layer.weight', tensor([[0.3000]])),\n",
              "             ('linear_layer.bias', tensor([0.8992]))])"
            ]
          },
          "execution_count": 91,
          "metadata": {},
          "output_type": "execute_result"
        }
      ],
      "source": [
        "loaded_model.state_dict()"
      ]
    },
    {
      "cell_type": "code",
      "execution_count": null,
      "metadata": {
        "id": "r3RsWndH3aB3"
      },
      "outputs": [],
      "source": []
    }
  ],
  "metadata": {
    "accelerator": "GPU",
    "colab": {
      "provenance": []
    },
    "kernelspec": {
      "display_name": "Python 3",
      "name": "python3"
    },
    "language_info": {
      "codemirror_mode": {
        "name": "ipython",
        "version": 3
      },
      "file_extension": ".py",
      "mimetype": "text/x-python",
      "name": "python",
      "nbconvert_exporter": "python",
      "pygments_lexer": "ipython3",
      "version": "3.11.1"
    }
  },
  "nbformat": 4,
  "nbformat_minor": 0
}
